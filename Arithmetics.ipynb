{
 "cells": [
  {
   "cell_type": "code",
   "execution_count": 1,
   "id": "99adcdc1",
   "metadata": {},
   "outputs": [],
   "source": [
    "#This a code to compute simple arithmetic operations"
   ]
  },
  {
   "cell_type": "code",
   "execution_count": 2,
   "id": "960cfade",
   "metadata": {},
   "outputs": [
    {
     "name": "stdout",
     "output_type": "stream",
     "text": [
      "The sum of 5 and 3 is 8\n"
     ]
    }
   ],
   "source": [
    "# Addition\n",
    "sum_result = 5 + 3\n",
    "print(f\"The sum of 5 and 3 is {sum_result}\")"
   ]
  },
  {
   "cell_type": "code",
   "execution_count": 3,
   "id": "fdadbf06",
   "metadata": {},
   "outputs": [
    {
     "name": "stdout",
     "output_type": "stream",
     "text": [
      "The difference between 10 and 7 is 3\n"
     ]
    }
   ],
   "source": [
    "# Subtraction\n",
    "diff_result = 10 - 7\n",
    "print(f\"The difference between 10 and 7 is {diff_result}\")"
   ]
  },
  {
   "cell_type": "code",
   "execution_count": 4,
   "id": "30984f74",
   "metadata": {},
   "outputs": [
    {
     "name": "stdout",
     "output_type": "stream",
     "text": [
      "The product of 4 and 2 is 8\n"
     ]
    }
   ],
   "source": [
    "# Multiplication\n",
    "mul_result = 4 * 2\n",
    "print(f\"The product of 4 and 2 is {mul_result}\")"
   ]
  },
  {
   "cell_type": "code",
   "execution_count": 5,
   "id": "6de013e8",
   "metadata": {},
   "outputs": [
    {
     "name": "stdout",
     "output_type": "stream",
     "text": [
      "The quotient when 16 is divided by 4 is 4.0\n"
     ]
    }
   ],
   "source": [
    "# Division\n",
    "div_result = 16 / 4\n",
    "print(f\"The quotient when 16 is divided by 4 is {div_result}\")"
   ]
  },
  {
   "cell_type": "code",
   "execution_count": 6,
   "id": "efa3be05",
   "metadata": {},
   "outputs": [
    {
     "name": "stdout",
     "output_type": "stream",
     "text": [
      "The remainder when 10 is divided by 3 is 1\n"
     ]
    }
   ],
   "source": [
    "# Modulus\n",
    "mod_result = 10 % 3\n",
    "print(f\"The remainder when 10 is divided by 3 is {mod_result}\")"
   ]
  },
  {
   "cell_type": "code",
   "execution_count": 7,
   "id": "053e126c",
   "metadata": {},
   "outputs": [
    {
     "name": "stdout",
     "output_type": "stream",
     "text": [
      "2 raised to the power of 3 is 8\n"
     ]
    }
   ],
   "source": [
    "# Exponentiation\n",
    "exp_result = 2 ** 3\n",
    "print(f\"2 raised to the power of 3 is {exp_result}\")"
   ]
  },
  {
   "cell_type": "code",
   "execution_count": null,
   "id": "6b1ed412",
   "metadata": {},
   "outputs": [],
   "source": []
  }
 ],
 "metadata": {
  "kernelspec": {
   "display_name": "Python 3 (ipykernel)",
   "language": "python",
   "name": "python3"
  },
  "language_info": {
   "codemirror_mode": {
    "name": "ipython",
    "version": 3
   },
   "file_extension": ".py",
   "mimetype": "text/x-python",
   "name": "python",
   "nbconvert_exporter": "python",
   "pygments_lexer": "ipython3",
   "version": "3.11.5"
  }
 },
 "nbformat": 4,
 "nbformat_minor": 5
}
